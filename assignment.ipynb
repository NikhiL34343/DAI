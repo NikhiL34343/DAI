{
 "cells": [
  {
   "cell_type": "code",
   "execution_count": 2,
   "metadata": {},
   "outputs": [],
   "source": [
    "import numpy as np\n",
    "import pandas as pd\n",
    "import seaborn as sns\n",
    "import matplotlib.pyplot as plt"
   ]
  },
  {
   "cell_type": "code",
   "execution_count": 3,
   "metadata": {},
   "outputs": [],
   "source": [
    "df=pd.read_csv('bikesales.csv')"
   ]
  },
  {
   "cell_type": "code",
   "execution_count": 4,
   "metadata": {},
   "outputs": [
    {
     "data": {
      "text/html": [
       "<div>\n",
       "<style scoped>\n",
       "    .dataframe tbody tr th:only-of-type {\n",
       "        vertical-align: middle;\n",
       "    }\n",
       "\n",
       "    .dataframe tbody tr th {\n",
       "        vertical-align: top;\n",
       "    }\n",
       "\n",
       "    .dataframe thead th {\n",
       "        text-align: right;\n",
       "    }\n",
       "</style>\n",
       "<table border=\"1\" class=\"dataframe\">\n",
       "  <thead>\n",
       "    <tr style=\"text-align: right;\">\n",
       "      <th></th>\n",
       "      <th>Sales_Order #</th>\n",
       "      <th>Date</th>\n",
       "      <th>Day</th>\n",
       "      <th>Month</th>\n",
       "      <th>Year</th>\n",
       "      <th>Customer_Age</th>\n",
       "      <th>Age_Group</th>\n",
       "      <th>Customer_Gender</th>\n",
       "      <th>Country</th>\n",
       "      <th>State</th>\n",
       "      <th>Product_Description</th>\n",
       "      <th>Order_Quantity</th>\n",
       "      <th>Unit_Cost</th>\n",
       "      <th>Unit_Price</th>\n",
       "      <th>Profit</th>\n",
       "      <th>Cost</th>\n",
       "    </tr>\n",
       "  </thead>\n",
       "  <tbody>\n",
       "    <tr>\n",
       "      <th>0</th>\n",
       "      <td>261695</td>\n",
       "      <td>12/01/2021</td>\n",
       "      <td>1.0</td>\n",
       "      <td>December</td>\n",
       "      <td>2021</td>\n",
       "      <td>39</td>\n",
       "      <td>Adults (35-64)</td>\n",
       "      <td>F</td>\n",
       "      <td>United States</td>\n",
       "      <td>California</td>\n",
       "      <td>Mountain-200 Black, 46</td>\n",
       "      <td>4.0</td>\n",
       "      <td>1252</td>\n",
       "      <td>2295</td>\n",
       "      <td>4172</td>\n",
       "      <td>5008</td>\n",
       "    </tr>\n",
       "    <tr>\n",
       "      <th>1</th>\n",
       "      <td>261695</td>\n",
       "      <td>12/01/2021</td>\n",
       "      <td>1.0</td>\n",
       "      <td>December</td>\n",
       "      <td>2021</td>\n",
       "      <td>44</td>\n",
       "      <td>Adults (35-64)</td>\n",
       "      <td>M</td>\n",
       "      <td>United Kingdom</td>\n",
       "      <td>England</td>\n",
       "      <td>Mountain-200 Silver, 42</td>\n",
       "      <td>1.0</td>\n",
       "      <td>1266</td>\n",
       "      <td>2320</td>\n",
       "      <td>1054</td>\n",
       "      <td>1266</td>\n",
       "    </tr>\n",
       "    <tr>\n",
       "      <th>2</th>\n",
       "      <td>261697</td>\n",
       "      <td>12/02/2021</td>\n",
       "      <td>2.0</td>\n",
       "      <td>December</td>\n",
       "      <td>2021</td>\n",
       "      <td>37</td>\n",
       "      <td>Adults (35-64)</td>\n",
       "      <td>M</td>\n",
       "      <td>United States</td>\n",
       "      <td>California</td>\n",
       "      <td>Mountain-400-W Silver, 46</td>\n",
       "      <td>2.0</td>\n",
       "      <td>420</td>\n",
       "      <td>769</td>\n",
       "      <td>698</td>\n",
       "      <td>840</td>\n",
       "    </tr>\n",
       "    <tr>\n",
       "      <th>3</th>\n",
       "      <td>261698</td>\n",
       "      <td>12/02/2021</td>\n",
       "      <td>2.0</td>\n",
       "      <td>December</td>\n",
       "      <td>2021</td>\n",
       "      <td>31</td>\n",
       "      <td>Young Adults (25-34)</td>\n",
       "      <td>F</td>\n",
       "      <td>Australia</td>\n",
       "      <td>New South Wales</td>\n",
       "      <td>Mountain-400-W Silver, 42</td>\n",
       "      <td>1.0</td>\n",
       "      <td>420</td>\n",
       "      <td>769</td>\n",
       "      <td>349</td>\n",
       "      <td>420</td>\n",
       "    </tr>\n",
       "    <tr>\n",
       "      <th>4</th>\n",
       "      <td>261699</td>\n",
       "      <td>12/03/2021</td>\n",
       "      <td>3.0</td>\n",
       "      <td>December</td>\n",
       "      <td>2021</td>\n",
       "      <td>37</td>\n",
       "      <td>Adults (35-64)</td>\n",
       "      <td>F</td>\n",
       "      <td>United  States</td>\n",
       "      <td>California</td>\n",
       "      <td>Mountain-200 Black, 46</td>\n",
       "      <td>2.0</td>\n",
       "      <td>0</td>\n",
       "      <td>2295</td>\n",
       "      <td>2086</td>\n",
       "      <td>0</td>\n",
       "    </tr>\n",
       "  </tbody>\n",
       "</table>\n",
       "</div>"
      ],
      "text/plain": [
       "   Sales_Order #        Date  Day     Month  Year  Customer_Age  \\\n",
       "0         261695  12/01/2021  1.0  December  2021            39   \n",
       "1         261695  12/01/2021  1.0  December  2021            44   \n",
       "2         261697  12/02/2021  2.0  December  2021            37   \n",
       "3         261698  12/02/2021  2.0  December  2021            31   \n",
       "4         261699  12/03/2021  3.0  December  2021            37   \n",
       "\n",
       "              Age_Group Customer_Gender         Country            State  \\\n",
       "0        Adults (35-64)               F   United States       California   \n",
       "1        Adults (35-64)               M  United Kingdom          England   \n",
       "2        Adults (35-64)               M   United States       California   \n",
       "3  Young Adults (25-34)               F       Australia  New South Wales   \n",
       "4        Adults (35-64)               F  United  States       California   \n",
       "\n",
       "         Product_Description  Order_Quantity   Unit_Cost    Unit_Price   \\\n",
       "0     Mountain-200 Black, 46             4.0         1252          2295   \n",
       "1    Mountain-200 Silver, 42             1.0         1266          2320   \n",
       "2  Mountain-400-W Silver, 46             2.0          420           769   \n",
       "3  Mountain-400-W Silver, 42             1.0          420           769   \n",
       "4     Mountain-200 Black, 46             2.0            0          2295   \n",
       "\n",
       "    Profit    Cost   \n",
       "0      4172    5008  \n",
       "1      1054    1266  \n",
       "2       698     840  \n",
       "3       349     420  \n",
       "4      2086       0  "
      ]
     },
     "execution_count": 4,
     "metadata": {},
     "output_type": "execute_result"
    }
   ],
   "source": [
    "df.head()"
   ]
  },
  {
   "cell_type": "code",
   "execution_count": 5,
   "metadata": {},
   "outputs": [
    {
     "data": {
      "text/html": [
       "<div>\n",
       "<style scoped>\n",
       "    .dataframe tbody tr th:only-of-type {\n",
       "        vertical-align: middle;\n",
       "    }\n",
       "\n",
       "    .dataframe tbody tr th {\n",
       "        vertical-align: top;\n",
       "    }\n",
       "\n",
       "    .dataframe thead th {\n",
       "        text-align: right;\n",
       "    }\n",
       "</style>\n",
       "<table border=\"1\" class=\"dataframe\">\n",
       "  <thead>\n",
       "    <tr style=\"text-align: right;\">\n",
       "      <th></th>\n",
       "      <th>Sales_Order #</th>\n",
       "      <th>Day</th>\n",
       "      <th>Year</th>\n",
       "      <th>Customer_Age</th>\n",
       "      <th>Order_Quantity</th>\n",
       "      <th>Unit_Cost</th>\n",
       "      <th>Unit_Price</th>\n",
       "      <th>Profit</th>\n",
       "      <th>Cost</th>\n",
       "    </tr>\n",
       "  </thead>\n",
       "  <tbody>\n",
       "    <tr>\n",
       "      <th>count</th>\n",
       "      <td>89.000000</td>\n",
       "      <td>88.000000</td>\n",
       "      <td>89.0</td>\n",
       "      <td>89.000000</td>\n",
       "      <td>88.000000</td>\n",
       "      <td>89.000000</td>\n",
       "      <td>89.000000</td>\n",
       "      <td>89.000000</td>\n",
       "      <td>89.000000</td>\n",
       "    </tr>\n",
       "    <tr>\n",
       "      <th>mean</th>\n",
       "      <td>261738.067416</td>\n",
       "      <td>13.534091</td>\n",
       "      <td>2021.0</td>\n",
       "      <td>34.202247</td>\n",
       "      <td>2.125000</td>\n",
       "      <td>1052.247191</td>\n",
       "      <td>1940.943820</td>\n",
       "      <td>1848.887640</td>\n",
       "      <td>2204.235955</td>\n",
       "    </tr>\n",
       "    <tr>\n",
       "      <th>std</th>\n",
       "      <td>25.729713</td>\n",
       "      <td>6.391353</td>\n",
       "      <td>0.0</td>\n",
       "      <td>8.090651</td>\n",
       "      <td>1.239322</td>\n",
       "      <td>440.499001</td>\n",
       "      <td>789.955743</td>\n",
       "      <td>1394.401162</td>\n",
       "      <td>1730.330926</td>\n",
       "    </tr>\n",
       "    <tr>\n",
       "      <th>min</th>\n",
       "      <td>261695.000000</td>\n",
       "      <td>1.000000</td>\n",
       "      <td>2021.0</td>\n",
       "      <td>17.000000</td>\n",
       "      <td>1.000000</td>\n",
       "      <td>0.000000</td>\n",
       "      <td>0.000000</td>\n",
       "      <td>245.000000</td>\n",
       "      <td>0.000000</td>\n",
       "    </tr>\n",
       "    <tr>\n",
       "      <th>25%</th>\n",
       "      <td>261716.000000</td>\n",
       "      <td>8.750000</td>\n",
       "      <td>2021.0</td>\n",
       "      <td>30.000000</td>\n",
       "      <td>1.000000</td>\n",
       "      <td>420.000000</td>\n",
       "      <td>2295.000000</td>\n",
       "      <td>1043.000000</td>\n",
       "      <td>1252.000000</td>\n",
       "    </tr>\n",
       "    <tr>\n",
       "      <th>50%</th>\n",
       "      <td>261738.000000</td>\n",
       "      <td>13.500000</td>\n",
       "      <td>2021.0</td>\n",
       "      <td>35.000000</td>\n",
       "      <td>2.000000</td>\n",
       "      <td>1252.000000</td>\n",
       "      <td>2295.000000</td>\n",
       "      <td>1054.000000</td>\n",
       "      <td>1266.000000</td>\n",
       "    </tr>\n",
       "    <tr>\n",
       "      <th>75%</th>\n",
       "      <td>261760.000000</td>\n",
       "      <td>19.000000</td>\n",
       "      <td>2021.0</td>\n",
       "      <td>38.000000</td>\n",
       "      <td>3.000000</td>\n",
       "      <td>1266.000000</td>\n",
       "      <td>2320.000000</td>\n",
       "      <td>2954.000000</td>\n",
       "      <td>3756.000000</td>\n",
       "    </tr>\n",
       "    <tr>\n",
       "      <th>max</th>\n",
       "      <td>261782.000000</td>\n",
       "      <td>24.000000</td>\n",
       "      <td>2021.0</td>\n",
       "      <td>63.000000</td>\n",
       "      <td>4.000000</td>\n",
       "      <td>1912.000000</td>\n",
       "      <td>3400.000000</td>\n",
       "      <td>5908.000000</td>\n",
       "      <td>7592.000000</td>\n",
       "    </tr>\n",
       "  </tbody>\n",
       "</table>\n",
       "</div>"
      ],
      "text/plain": [
       "       Sales_Order #        Day    Year  Customer_Age  Order_Quantity  \\\n",
       "count      89.000000  88.000000    89.0     89.000000       88.000000   \n",
       "mean   261738.067416  13.534091  2021.0     34.202247        2.125000   \n",
       "std        25.729713   6.391353     0.0      8.090651        1.239322   \n",
       "min    261695.000000   1.000000  2021.0     17.000000        1.000000   \n",
       "25%    261716.000000   8.750000  2021.0     30.000000        1.000000   \n",
       "50%    261738.000000  13.500000  2021.0     35.000000        2.000000   \n",
       "75%    261760.000000  19.000000  2021.0     38.000000        3.000000   \n",
       "max    261782.000000  24.000000  2021.0     63.000000        4.000000   \n",
       "\n",
       "        Unit_Cost    Unit_Price       Profit         Cost   \n",
       "count    89.000000     89.000000    89.000000    89.000000  \n",
       "mean   1052.247191   1940.943820  1848.887640  2204.235955  \n",
       "std     440.499001    789.955743  1394.401162  1730.330926  \n",
       "min       0.000000      0.000000   245.000000     0.000000  \n",
       "25%     420.000000   2295.000000  1043.000000  1252.000000  \n",
       "50%    1252.000000   2295.000000  1054.000000  1266.000000  \n",
       "75%    1266.000000   2320.000000  2954.000000  3756.000000  \n",
       "max    1912.000000   3400.000000  5908.000000  7592.000000  "
      ]
     },
     "execution_count": 5,
     "metadata": {},
     "output_type": "execute_result"
    }
   ],
   "source": [
    "df.describe()"
   ]
  },
  {
   "cell_type": "code",
   "execution_count": 6,
   "metadata": {},
   "outputs": [
    {
     "name": "stdout",
     "output_type": "stream",
     "text": [
      "<class 'pandas.core.frame.DataFrame'>\n",
      "RangeIndex: 89 entries, 0 to 88\n",
      "Data columns (total 16 columns):\n",
      " #   Column               Non-Null Count  Dtype  \n",
      "---  ------               --------------  -----  \n",
      " 0   Sales_Order #        89 non-null     int64  \n",
      " 1   Date                 89 non-null     object \n",
      " 2   Day                  88 non-null     float64\n",
      " 3   Month                89 non-null     object \n",
      " 4   Year                 89 non-null     int64  \n",
      " 5   Customer_Age         89 non-null     int64  \n",
      " 6   Age_Group            88 non-null     object \n",
      " 7   Customer_Gender      89 non-null     object \n",
      " 8   Country              89 non-null     object \n",
      " 9   State                89 non-null     object \n",
      " 10  Product_Description  88 non-null     object \n",
      " 11  Order_Quantity       88 non-null     float64\n",
      " 12   Unit_Cost           89 non-null     int64  \n",
      " 13   Unit_Price          89 non-null     int64  \n",
      " 14   Profit              89 non-null     int64  \n",
      " 15   Cost                89 non-null     int64  \n",
      "dtypes: float64(2), int64(7), object(7)\n",
      "memory usage: 11.3+ KB\n"
     ]
    }
   ],
   "source": [
    "df.info()"
   ]
  },
  {
   "cell_type": "markdown",
   "metadata": {},
   "source": [
    "Univariate Analysis of features"
   ]
  },
  {
   "cell_type": "code",
   "execution_count": 7,
   "metadata": {},
   "outputs": [
    {
     "data": {
      "text/plain": [
       "np.int64(0)"
      ]
     },
     "execution_count": 7,
     "metadata": {},
     "output_type": "execute_result"
    }
   ],
   "source": [
    "df['Sales_Order #'].isnull().sum()"
   ]
  },
  {
   "cell_type": "code",
   "execution_count": 8,
   "metadata": {},
   "outputs": [
    {
     "data": {
      "text/html": [
       "<div>\n",
       "<style scoped>\n",
       "    .dataframe tbody tr th:only-of-type {\n",
       "        vertical-align: middle;\n",
       "    }\n",
       "\n",
       "    .dataframe tbody tr th {\n",
       "        vertical-align: top;\n",
       "    }\n",
       "\n",
       "    .dataframe thead th {\n",
       "        text-align: right;\n",
       "    }\n",
       "</style>\n",
       "<table border=\"1\" class=\"dataframe\">\n",
       "  <thead>\n",
       "    <tr style=\"text-align: right;\">\n",
       "      <th></th>\n",
       "      <th>Sales_Order #</th>\n",
       "      <th>Date</th>\n",
       "      <th>Day</th>\n",
       "      <th>Month</th>\n",
       "      <th>Year</th>\n",
       "      <th>Customer_Age</th>\n",
       "      <th>Age_Group</th>\n",
       "      <th>Customer_Gender</th>\n",
       "      <th>Country</th>\n",
       "      <th>State</th>\n",
       "      <th>Product_Description</th>\n",
       "      <th>Order_Quantity</th>\n",
       "      <th>Unit_Cost</th>\n",
       "      <th>Unit_Price</th>\n",
       "      <th>Profit</th>\n",
       "      <th>Cost</th>\n",
       "    </tr>\n",
       "  </thead>\n",
       "  <tbody>\n",
       "    <tr>\n",
       "      <th>1</th>\n",
       "      <td>261695</td>\n",
       "      <td>12/01/2021</td>\n",
       "      <td>1.0</td>\n",
       "      <td>December</td>\n",
       "      <td>2021</td>\n",
       "      <td>44</td>\n",
       "      <td>Adults (35-64)</td>\n",
       "      <td>M</td>\n",
       "      <td>United Kingdom</td>\n",
       "      <td>England</td>\n",
       "      <td>Mountain-200 Silver, 42</td>\n",
       "      <td>1.0</td>\n",
       "      <td>1266</td>\n",
       "      <td>2320</td>\n",
       "      <td>1054</td>\n",
       "      <td>1266</td>\n",
       "    </tr>\n",
       "    <tr>\n",
       "      <th>7</th>\n",
       "      <td>261701</td>\n",
       "      <td>12/03/2021</td>\n",
       "      <td>3.0</td>\n",
       "      <td>December</td>\n",
       "      <td>2021</td>\n",
       "      <td>37</td>\n",
       "      <td>Adults (35-64)</td>\n",
       "      <td>M</td>\n",
       "      <td>United States</td>\n",
       "      <td>Washington</td>\n",
       "      <td>Mountain-200 Black, 46</td>\n",
       "      <td>1.0</td>\n",
       "      <td>1252</td>\n",
       "      <td>2295</td>\n",
       "      <td>1043</td>\n",
       "      <td>1252</td>\n",
       "    </tr>\n",
       "  </tbody>\n",
       "</table>\n",
       "</div>"
      ],
      "text/plain": [
       "   Sales_Order #        Date  Day     Month  Year  Customer_Age  \\\n",
       "1         261695  12/01/2021  1.0  December  2021            44   \n",
       "7         261701  12/03/2021  3.0  December  2021            37   \n",
       "\n",
       "        Age_Group Customer_Gender         Country       State  \\\n",
       "1  Adults (35-64)               M  United Kingdom     England   \n",
       "7  Adults (35-64)               M   United States  Washington   \n",
       "\n",
       "       Product_Description  Order_Quantity   Unit_Cost    Unit_Price   \\\n",
       "1  Mountain-200 Silver, 42             1.0         1266          2320   \n",
       "7   Mountain-200 Black, 46             1.0         1252          2295   \n",
       "\n",
       "    Profit    Cost   \n",
       "1      1054    1266  \n",
       "7      1043    1252  "
      ]
     },
     "execution_count": 8,
     "metadata": {},
     "output_type": "execute_result"
    }
   ],
   "source": [
    "\n",
    "df[df['Sales_Order #'].duplicated()==True]"
   ]
  },
  {
   "cell_type": "code",
   "execution_count": null,
   "metadata": {},
   "outputs": [
    {
     "data": {
      "text/plain": [
       "<Axes: >"
      ]
     },
     "execution_count": 9,
     "metadata": {},
     "output_type": "execute_result"
    },
    {
     "data": {
      "image/png": "[encoded data removed]",
      "text/plain": [
       "<Figure size 640x480 with 1 Axes>"
      ]
     },
     "metadata": {},
     "output_type": "display_data"
    }
   ],
   "source": [
    "df['Sales_Order #'].plot(kind='box')#no outliers i.e. Sales_Order # contains values in the increasing # of orders."
   ]
  },
  {
   "cell_type": "code",
   "execution_count": null,
   "metadata": {},
   "outputs": [
    {
     "data": {
      "text/html": [
       "<div>\n",
       "<style scoped>\n",
       "    .dataframe tbody tr th:only-of-type {\n",
       "        vertical-align: middle;\n",
       "    }\n",
       "\n",
       "    .dataframe tbody tr th {\n",
       "        vertical-align: top;\n",
       "    }\n",
       "\n",
       "    .dataframe thead th {\n",
       "        text-align: right;\n",
       "    }\n",
       "</style>\n",
       "<table border=\"1\" class=\"dataframe\">\n",
       "  <thead>\n",
       "    <tr style=\"text-align: right;\">\n",
       "      <th></th>\n",
       "      <th>Sales_Order #</th>\n",
       "      <th>Date</th>\n",
       "      <th>Day</th>\n",
       "      <th>Month</th>\n",
       "      <th>Year</th>\n",
       "      <th>Customer_Age</th>\n",
       "      <th>Age_Group</th>\n",
       "      <th>Customer_Gender</th>\n",
       "      <th>Country</th>\n",
       "      <th>State</th>\n",
       "      <th>Product_Description</th>\n",
       "      <th>Order_Quantity</th>\n",
       "      <th>Unit_Cost</th>\n",
       "      <th>Unit_Price</th>\n",
       "      <th>Profit</th>\n",
       "      <th>Cost</th>\n",
       "    </tr>\n",
       "  </thead>\n",
       "  <tbody>\n",
       "    <tr>\n",
       "      <th>0</th>\n",
       "      <td>261695</td>\n",
       "      <td>2021-12-01</td>\n",
       "      <td>1.0</td>\n",
       "      <td>December</td>\n",
       "      <td>2021</td>\n",
       "      <td>39</td>\n",
       "      <td>Adults (35-64)</td>\n",
       "      <td>F</td>\n",
       "      <td>UnitedStates</td>\n",
       "      <td>California</td>\n",
       "      <td>Mountain-200 Black, 46</td>\n",
       "      <td>4.0</td>\n",
       "      <td>1252</td>\n",
       "      <td>2295</td>\n",
       "      <td>4172</td>\n",
       "      <td>5008</td>\n",
       "    </tr>\n",
       "    <tr>\n",
       "      <th>2</th>\n",
       "      <td>261697</td>\n",
       "      <td>2021-12-02</td>\n",
       "      <td>2.0</td>\n",
       "      <td>December</td>\n",
       "      <td>2021</td>\n",
       "      <td>37</td>\n",
       "      <td>Adults (35-64)</td>\n",
       "      <td>M</td>\n",
       "      <td>UnitedStates</td>\n",
       "      <td>California</td>\n",
       "      <td>Mountain-400-W Silver, 46</td>\n",
       "      <td>2.0</td>\n",
       "      <td>420</td>\n",
       "      <td>769</td>\n",
       "      <td>698</td>\n",
       "      <td>840</td>\n",
       "    </tr>\n",
       "    <tr>\n",
       "      <th>3</th>\n",
       "      <td>261698</td>\n",
       "      <td>2021-12-02</td>\n",
       "      <td>2.0</td>\n",
       "      <td>December</td>\n",
       "      <td>2021</td>\n",
       "      <td>31</td>\n",
       "      <td>Young Adults (25-34)</td>\n",
       "      <td>F</td>\n",
       "      <td>Australia</td>\n",
       "      <td>New South Wales</td>\n",
       "      <td>Mountain-400-W Silver, 42</td>\n",
       "      <td>1.0</td>\n",
       "      <td>420</td>\n",
       "      <td>769</td>\n",
       "      <td>349</td>\n",
       "      <td>420</td>\n",
       "    </tr>\n",
       "    <tr>\n",
       "      <th>4</th>\n",
       "      <td>261699</td>\n",
       "      <td>2021-12-03</td>\n",
       "      <td>3.0</td>\n",
       "      <td>December</td>\n",
       "      <td>2021</td>\n",
       "      <td>37</td>\n",
       "      <td>Adults (35-64)</td>\n",
       "      <td>F</td>\n",
       "      <td>UnitedStates</td>\n",
       "      <td>California</td>\n",
       "      <td>Mountain-200 Black, 46</td>\n",
       "      <td>2.0</td>\n",
       "      <td>0</td>\n",
       "      <td>2295</td>\n",
       "      <td>2086</td>\n",
       "      <td>0</td>\n",
       "    </tr>\n",
       "    <tr>\n",
       "      <th>5</th>\n",
       "      <td>261700</td>\n",
       "      <td>2021-12-03</td>\n",
       "      <td>3.0</td>\n",
       "      <td>December</td>\n",
       "      <td>2021</td>\n",
       "      <td>24</td>\n",
       "      <td>Youth (&lt;25)</td>\n",
       "      <td>F</td>\n",
       "      <td>UnitedKingdom</td>\n",
       "      <td>England</td>\n",
       "      <td>Mountain-200 Black, 38</td>\n",
       "      <td>1.0</td>\n",
       "      <td>1252</td>\n",
       "      <td>2295</td>\n",
       "      <td>1043</td>\n",
       "      <td>1252</td>\n",
       "    </tr>\n",
       "    <tr>\n",
       "      <th>...</th>\n",
       "      <td>...</td>\n",
       "      <td>...</td>\n",
       "      <td>...</td>\n",
       "      <td>...</td>\n",
       "      <td>...</td>\n",
       "      <td>...</td>\n",
       "      <td>...</td>\n",
       "      <td>...</td>\n",
       "      <td>...</td>\n",
       "      <td>...</td>\n",
       "      <td>...</td>\n",
       "      <td>...</td>\n",
       "      <td>...</td>\n",
       "      <td>...</td>\n",
       "      <td>...</td>\n",
       "      <td>...</td>\n",
       "    </tr>\n",
       "    <tr>\n",
       "      <th>84</th>\n",
       "      <td>261778</td>\n",
       "      <td>2021-12-22</td>\n",
       "      <td>22.0</td>\n",
       "      <td>December</td>\n",
       "      <td>2021</td>\n",
       "      <td>41</td>\n",
       "      <td>Adults (35-64)</td>\n",
       "      <td>M</td>\n",
       "      <td>Germany</td>\n",
       "      <td>Hessen</td>\n",
       "      <td>Mountain-200 Silver, 38</td>\n",
       "      <td>1.0</td>\n",
       "      <td>1266</td>\n",
       "      <td>2320</td>\n",
       "      <td>1054</td>\n",
       "      <td>1266</td>\n",
       "    </tr>\n",
       "    <tr>\n",
       "      <th>85</th>\n",
       "      <td>261779</td>\n",
       "      <td>2021-12-23</td>\n",
       "      <td>23.0</td>\n",
       "      <td>December</td>\n",
       "      <td>2021</td>\n",
       "      <td>30</td>\n",
       "      <td>Young Adults (25-34)</td>\n",
       "      <td>F</td>\n",
       "      <td>UnitedStates</td>\n",
       "      <td>Oregon</td>\n",
       "      <td>Mountain-200 Silver, 42</td>\n",
       "      <td>1.0</td>\n",
       "      <td>1266</td>\n",
       "      <td>2320</td>\n",
       "      <td>1054</td>\n",
       "      <td>1266</td>\n",
       "    </tr>\n",
       "    <tr>\n",
       "      <th>86</th>\n",
       "      <td>261780</td>\n",
       "      <td>2021-12-23</td>\n",
       "      <td>23.0</td>\n",
       "      <td>December</td>\n",
       "      <td>2021</td>\n",
       "      <td>31</td>\n",
       "      <td>Young Adults (25-34)</td>\n",
       "      <td>F</td>\n",
       "      <td>Canada</td>\n",
       "      <td>British Columbia</td>\n",
       "      <td>Mountain-200 Black, 42</td>\n",
       "      <td>1.0</td>\n",
       "      <td>1252</td>\n",
       "      <td>2295</td>\n",
       "      <td>1043</td>\n",
       "      <td>1252</td>\n",
       "    </tr>\n",
       "    <tr>\n",
       "      <th>87</th>\n",
       "      <td>261781</td>\n",
       "      <td>2021-12-23</td>\n",
       "      <td>23.0</td>\n",
       "      <td>December</td>\n",
       "      <td>2021</td>\n",
       "      <td>35</td>\n",
       "      <td>Adults (35-64)</td>\n",
       "      <td>F</td>\n",
       "      <td>UnitedStates</td>\n",
       "      <td>California</td>\n",
       "      <td>Mountain-500 Black, 42</td>\n",
       "      <td>1.0</td>\n",
       "      <td>295</td>\n",
       "      <td>540</td>\n",
       "      <td>245</td>\n",
       "      <td>295</td>\n",
       "    </tr>\n",
       "    <tr>\n",
       "      <th>88</th>\n",
       "      <td>261782</td>\n",
       "      <td>2021-12-24</td>\n",
       "      <td>24.0</td>\n",
       "      <td>December</td>\n",
       "      <td>2021</td>\n",
       "      <td>38</td>\n",
       "      <td>Adults (35-64)</td>\n",
       "      <td>M</td>\n",
       "      <td>Australia</td>\n",
       "      <td>Queensland</td>\n",
       "      <td>Mountain-200 Black, 42</td>\n",
       "      <td>4.0</td>\n",
       "      <td>1252</td>\n",
       "      <td>2295</td>\n",
       "      <td>4172</td>\n",
       "      <td>5008</td>\n",
       "    </tr>\n",
       "  </tbody>\n",
       "</table>\n",
       "<p>87 rows × 16 columns</p>\n",
       "</div>"
      ],
      "text/plain": [
       "    Sales_Order #       Date   Day     Month  Year  Customer_Age  \\\n",
       "0          261695 2021-12-01   1.0  December  2021            39   \n",
       "2          261697 2021-12-02   2.0  December  2021            37   \n",
       "3          261698 2021-12-02   2.0  December  2021            31   \n",
       "4          261699 2021-12-03   3.0  December  2021            37   \n",
       "5          261700 2021-12-03   3.0  December  2021            24   \n",
       "..            ...        ...   ...       ...   ...           ...   \n",
       "84         261778 2021-12-22  22.0  December  2021            41   \n",
       "85         261779 2021-12-23  23.0  December  2021            30   \n",
       "86         261780 2021-12-23  23.0  December  2021            31   \n",
       "87         261781 2021-12-23  23.0  December  2021            35   \n",
       "88         261782 2021-12-24  24.0  December  2021            38   \n",
       "\n",
       "               Age_Group Customer_Gender        Country             State  \\\n",
       "0         Adults (35-64)               F   UnitedStates        California   \n",
       "2         Adults (35-64)               M   UnitedStates        California   \n",
       "3   Young Adults (25-34)               F      Australia   New South Wales   \n",
       "4         Adults (35-64)               F   UnitedStates        California   \n",
       "5            Youth (<25)               F  UnitedKingdom           England   \n",
       "..                   ...             ...            ...               ...   \n",
       "84        Adults (35-64)               M        Germany            Hessen   \n",
       "85  Young Adults (25-34)               F   UnitedStates            Oregon   \n",
       "86  Young Adults (25-34)               F         Canada  British Columbia   \n",
       "87        Adults (35-64)               F   UnitedStates        California   \n",
       "88        Adults (35-64)               M      Australia        Queensland   \n",
       "\n",
       "          Product_Description  Order_Quantity   Unit_Cost    Unit_Price   \\\n",
       "0      Mountain-200 Black, 46             4.0         1252          2295   \n",
       "2   Mountain-400-W Silver, 46             2.0          420           769   \n",
       "3   Mountain-400-W Silver, 42             1.0          420           769   \n",
       "4      Mountain-200 Black, 46             2.0            0          2295   \n",
       "5      Mountain-200 Black, 38             1.0         1252          2295   \n",
       "..                        ...             ...          ...           ...   \n",
       "84    Mountain-200 Silver, 38             1.0         1266          2320   \n",
       "85    Mountain-200 Silver, 42             1.0         1266          2320   \n",
       "86     Mountain-200 Black, 42             1.0         1252          2295   \n",
       "87     Mountain-500 Black, 42             1.0          295           540   \n",
       "88     Mountain-200 Black, 42             4.0         1252          2295   \n",
       "\n",
       "     Profit    Cost   \n",
       "0       4172    5008  \n",
       "2        698     840  \n",
       "3        349     420  \n",
       "4       2086       0  \n",
       "5       1043    1252  \n",
       "..       ...     ...  \n",
       "84      1054    1266  \n",
       "85      1054    1266  \n",
       "86      1043    1252  \n",
       "87       245     295  \n",
       "88      4172    5008  \n",
       "\n",
       "[87 rows x 16 columns]"
      ]
     },
     "execution_count": 42,
     "metadata": {},
     "output_type": "execute_result"
    }
   ],
   "source": [
    "df.drop_duplicates(subset='Sales_Order #', keep='first')#to remove the orders having same order number."
   ]
  },
  {
   "cell_type": "code",
   "execution_count": 10,
   "metadata": {},
   "outputs": [
    {
     "data": {
      "text/plain": [
       "count             89\n",
       "unique            24\n",
       "top       12/19/2021\n",
       "freq              10\n",
       "Name: Date, dtype: object"
      ]
     },
     "execution_count": 10,
     "metadata": {},
     "output_type": "execute_result"
    }
   ],
   "source": [
    "df['Date'].describe()"
   ]
  },
  {
   "cell_type": "code",
   "execution_count": 11,
   "metadata": {},
   "outputs": [],
   "source": [
    "df['Date']=pd.to_datetime(df['Date'])"
   ]
  },
  {
   "cell_type": "code",
   "execution_count": 12,
   "metadata": {},
   "outputs": [
    {
     "data": {
      "text/plain": [
       "np.int64(0)"
      ]
     },
     "execution_count": 12,
     "metadata": {},
     "output_type": "execute_result"
    }
   ],
   "source": [
    "df['Date'].isnull().sum()"
   ]
  },
  {
   "cell_type": "code",
   "execution_count": 13,
   "metadata": {},
   "outputs": [
    {
     "data": {
      "text/html": [
       "<div>\n",
       "<style scoped>\n",
       "    .dataframe tbody tr th:only-of-type {\n",
       "        vertical-align: middle;\n",
       "    }\n",
       "\n",
       "    .dataframe tbody tr th {\n",
       "        vertical-align: top;\n",
       "    }\n",
       "\n",
       "    .dataframe thead th {\n",
       "        text-align: right;\n",
       "    }\n",
       "</style>\n",
       "<table border=\"1\" class=\"dataframe\">\n",
       "  <thead>\n",
       "    <tr style=\"text-align: right;\">\n",
       "      <th></th>\n",
       "      <th>Sales_Order #</th>\n",
       "      <th>Date</th>\n",
       "      <th>Day</th>\n",
       "      <th>Month</th>\n",
       "      <th>Year</th>\n",
       "      <th>Customer_Age</th>\n",
       "      <th>Age_Group</th>\n",
       "      <th>Customer_Gender</th>\n",
       "      <th>Country</th>\n",
       "      <th>State</th>\n",
       "      <th>Product_Description</th>\n",
       "      <th>Order_Quantity</th>\n",
       "      <th>Unit_Cost</th>\n",
       "      <th>Unit_Price</th>\n",
       "      <th>Profit</th>\n",
       "      <th>Cost</th>\n",
       "    </tr>\n",
       "  </thead>\n",
       "  <tbody>\n",
       "    <tr>\n",
       "      <th>10</th>\n",
       "      <td>261704</td>\n",
       "      <td>2021-12-05</td>\n",
       "      <td>NaN</td>\n",
       "      <td>December</td>\n",
       "      <td>2021</td>\n",
       "      <td>42</td>\n",
       "      <td>Adults (35-64)</td>\n",
       "      <td>M</td>\n",
       "      <td>Germany</td>\n",
       "      <td>Nordrhein-Westfalen</td>\n",
       "      <td>Mountain-200 Black, 38</td>\n",
       "      <td>4.0</td>\n",
       "      <td>1252</td>\n",
       "      <td>2295</td>\n",
       "      <td>4172</td>\n",
       "      <td>5008</td>\n",
       "    </tr>\n",
       "  </tbody>\n",
       "</table>\n",
       "</div>"
      ],
      "text/plain": [
       "    Sales_Order #       Date  Day     Month  Year  Customer_Age  \\\n",
       "10         261704 2021-12-05  NaN  December  2021            42   \n",
       "\n",
       "         Age_Group Customer_Gender  Country                State  \\\n",
       "10  Adults (35-64)               M  Germany  Nordrhein-Westfalen   \n",
       "\n",
       "       Product_Description  Order_Quantity   Unit_Cost    Unit_Price   \\\n",
       "10  Mountain-200 Black, 38             4.0         1252          2295   \n",
       "\n",
       "     Profit    Cost   \n",
       "10      4172    5008  "
      ]
     },
     "execution_count": 13,
     "metadata": {},
     "output_type": "execute_result"
    }
   ],
   "source": [
    "df[df['Day'].isnull()==1]#we can now set the null value from the date."
   ]
  },
  {
   "cell_type": "code",
   "execution_count": 38,
   "metadata": {},
   "outputs": [],
   "source": [
    "df['Day'] = df['Day'].fillna(df['Date'].dt.day)"
   ]
  },
  {
   "cell_type": "code",
   "execution_count": 14,
   "metadata": {},
   "outputs": [
    {
     "data": {
      "text/plain": [
       "count    88.000000\n",
       "mean     13.534091\n",
       "std       6.391353\n",
       "min       1.000000\n",
       "25%       8.750000\n",
       "50%      13.500000\n",
       "75%      19.000000\n",
       "max      24.000000\n",
       "Name: Day, dtype: float64"
      ]
     },
     "execution_count": 14,
     "metadata": {},
     "output_type": "execute_result"
    }
   ],
   "source": [
    "df['Day'].describe()"
   ]
  },
  {
   "cell_type": "code",
   "execution_count": 15,
   "metadata": {},
   "outputs": [
    {
     "name": "stdout",
     "output_type": "stream",
     "text": [
      "-0.2687955897012064\n"
     ]
    },
    {
     "data": {
      "text/plain": [
       "<Axes: ylabel='Density'>"
      ]
     },
     "execution_count": 15,
     "metadata": {},
     "output_type": "execute_result"
    },
    {
     "data": {
      "image/png": "[encoded data removed]",
      "text/plain": [
       "<Figure size 640x480 with 1 Axes>"
      ]
     },
     "metadata": {},
     "output_type": "display_data"
    }
   ],
   "source": [
    "print(df['Day'].skew())\n",
    "df['Day'].plot(kind='kde')"
   ]
  },
  {
   "cell_type": "code",
   "execution_count": 16,
   "metadata": {},
   "outputs": [
    {
     "data": {
      "text/plain": [
       "array(['December', 'Decmber'], dtype=object)"
      ]
     },
     "execution_count": 16,
     "metadata": {},
     "output_type": "execute_result"
    }
   ],
   "source": [
    "df['Month'].unique()#we can see here that 'December' has been typed wrong somewhere."
   ]
  },
  {
   "cell_type": "code",
   "execution_count": 17,
   "metadata": {},
   "outputs": [
    {
     "data": {
      "text/html": [
       "<div>\n",
       "<style scoped>\n",
       "    .dataframe tbody tr th:only-of-type {\n",
       "        vertical-align: middle;\n",
       "    }\n",
       "\n",
       "    .dataframe tbody tr th {\n",
       "        vertical-align: top;\n",
       "    }\n",
       "\n",
       "    .dataframe thead th {\n",
       "        text-align: right;\n",
       "    }\n",
       "</style>\n",
       "<table border=\"1\" class=\"dataframe\">\n",
       "  <thead>\n",
       "    <tr style=\"text-align: right;\">\n",
       "      <th></th>\n",
       "      <th>Sales_Order #</th>\n",
       "      <th>Date</th>\n",
       "      <th>Day</th>\n",
       "      <th>Month</th>\n",
       "      <th>Year</th>\n",
       "      <th>Customer_Age</th>\n",
       "      <th>Age_Group</th>\n",
       "      <th>Customer_Gender</th>\n",
       "      <th>Country</th>\n",
       "      <th>State</th>\n",
       "      <th>Product_Description</th>\n",
       "      <th>Order_Quantity</th>\n",
       "      <th>Unit_Cost</th>\n",
       "      <th>Unit_Price</th>\n",
       "      <th>Profit</th>\n",
       "      <th>Cost</th>\n",
       "    </tr>\n",
       "  </thead>\n",
       "  <tbody>\n",
       "    <tr>\n",
       "      <th>17</th>\n",
       "      <td>261711</td>\n",
       "      <td>2021-12-07</td>\n",
       "      <td>7.0</td>\n",
       "      <td>Decmber</td>\n",
       "      <td>2021</td>\n",
       "      <td>30</td>\n",
       "      <td>Young Adults (25-34)</td>\n",
       "      <td>M</td>\n",
       "      <td>United States</td>\n",
       "      <td>California</td>\n",
       "      <td>Mountain-400-W Silver, 38</td>\n",
       "      <td>4.0</td>\n",
       "      <td>420</td>\n",
       "      <td>769</td>\n",
       "      <td>1396</td>\n",
       "      <td>1680</td>\n",
       "    </tr>\n",
       "  </tbody>\n",
       "</table>\n",
       "</div>"
      ],
      "text/plain": [
       "    Sales_Order #       Date  Day    Month  Year  Customer_Age  \\\n",
       "17         261711 2021-12-07  7.0  Decmber  2021            30   \n",
       "\n",
       "               Age_Group Customer_Gender        Country       State  \\\n",
       "17  Young Adults (25-34)               M  United States  California   \n",
       "\n",
       "          Product_Description  Order_Quantity   Unit_Cost    Unit_Price   \\\n",
       "17  Mountain-400-W Silver, 38             4.0          420           769   \n",
       "\n",
       "     Profit    Cost   \n",
       "17      1396    1680  "
      ]
     },
     "execution_count": 17,
     "metadata": {},
     "output_type": "execute_result"
    }
   ],
   "source": [
    "df[df['Month']!='December']"
   ]
  },
  {
   "cell_type": "code",
   "execution_count": null,
   "metadata": {},
   "outputs": [],
   "source": [
    "df['Month']=df['Month'].replace('Decmber','December')#correcting the erroneous value."
   ]
  },
  {
   "cell_type": "code",
   "execution_count": 18,
   "metadata": {},
   "outputs": [
    {
     "data": {
      "text/plain": [
       "array([2021])"
      ]
     },
     "execution_count": 18,
     "metadata": {},
     "output_type": "execute_result"
    }
   ],
   "source": [
    "df['Year'].unique()#only year 2021 is there."
   ]
  },
  {
   "cell_type": "code",
   "execution_count": null,
   "metadata": {},
   "outputs": [
    {
     "data": {
      "text/html": [
       "<div>\n",
       "<style scoped>\n",
       "    .dataframe tbody tr th:only-of-type {\n",
       "        vertical-align: middle;\n",
       "    }\n",
       "\n",
       "    .dataframe tbody tr th {\n",
       "        vertical-align: top;\n",
       "    }\n",
       "\n",
       "    .dataframe thead th {\n",
       "        text-align: right;\n",
       "    }\n",
       "</style>\n",
       "<table border=\"1\" class=\"dataframe\">\n",
       "  <thead>\n",
       "    <tr style=\"text-align: right;\">\n",
       "      <th></th>\n",
       "      <th>Sales_Order #</th>\n",
       "      <th>Date</th>\n",
       "      <th>Day</th>\n",
       "      <th>Month</th>\n",
       "      <th>Year</th>\n",
       "      <th>Customer_Age</th>\n",
       "      <th>Age_Group</th>\n",
       "      <th>Customer_Gender</th>\n",
       "      <th>Country</th>\n",
       "      <th>State</th>\n",
       "      <th>Product_Description</th>\n",
       "      <th>Order_Quantity</th>\n",
       "      <th>Unit_Cost</th>\n",
       "      <th>Unit_Price</th>\n",
       "      <th>Profit</th>\n",
       "      <th>Cost</th>\n",
       "    </tr>\n",
       "  </thead>\n",
       "  <tbody>\n",
       "  </tbody>\n",
       "</table>\n",
       "</div>"
      ],
      "text/plain": [
       "Empty DataFrame\n",
       "Columns: [Sales_Order #, Date, Day, Month, Year, Customer_Age, Age_Group, Customer_Gender, Country, State, Product_Description, Order_Quantity,  Unit_Cost ,  Unit_Price ,  Profit ,  Cost ]\n",
       "Index: []"
      ]
     },
     "execution_count": 41,
     "metadata": {},
     "output_type": "execute_result"
    }
   ],
   "source": [
    "df[df['Year'].isnull()==1]#and no null values in Year"
   ]
  },
  {
   "cell_type": "code",
   "execution_count": 19,
   "metadata": {},
   "outputs": [
    {
     "name": "stdout",
     "output_type": "stream",
     "text": [
      "count    89.000000\n",
      "mean     34.202247\n",
      "std       8.090651\n",
      "min      17.000000\n",
      "25%      30.000000\n",
      "50%      35.000000\n",
      "75%      38.000000\n",
      "max      63.000000\n",
      "Name: Customer_Age, dtype: float64\n"
     ]
    },
    {
     "data": {
      "text/plain": [
       "<Axes: ylabel='Density'>"
      ]
     },
     "execution_count": 19,
     "metadata": {},
     "output_type": "execute_result"
    },
    {
     "data": {
      "image/png": "[encoded data removed]",
      "text/plain": [
       "<Figure size 640x480 with 1 Axes>"
      ]
     },
     "metadata": {},
     "output_type": "display_data"
    }
   ],
   "source": [
    "print(df['Customer_Age'].describe())\n",
    "df['Customer_Age'].plot(kind='kde')"
   ]
  },
  {
   "cell_type": "code",
   "execution_count": 20,
   "metadata": {},
   "outputs": [
    {
     "data": {
      "text/plain": [
       "<Axes: >"
      ]
     },
     "execution_count": 20,
     "metadata": {},
     "output_type": "execute_result"
    },
    {
     "data": {
      "image/png": "[encoded data removed]",
      "text/plain": [
       "<Figure size 640x480 with 1 Axes>"
      ]
     },
     "metadata": {},
     "output_type": "display_data"
    }
   ],
   "source": [
    "df['Customer_Age'].plot(kind='box')#few outliers"
   ]
  },
  {
   "cell_type": "code",
   "execution_count": 22,
   "metadata": {},
   "outputs": [
    {
     "data": {
      "text/plain": [
       "<Axes: ylabel='Gender'>"
      ]
     },
     "execution_count": 22,
     "metadata": {},
     "output_type": "execute_result"
    },
    {
     "data": {
      "image/png": "[encoded data removed]",
      "text/plain": [
       "<Figure size 640x480 with 1 Axes>"
      ]
     },
     "metadata": {},
     "output_type": "display_data"
    }
   ],
   "source": [
    "df['Customer_Gender'].value_counts().plot(kind='pie',autopct='%0.1f%%',ylabel='Gender')"
   ]
  },
  {
   "cell_type": "code",
   "execution_count": 23,
   "metadata": {},
   "outputs": [
    {
     "data": {
      "text/plain": [
       "array(['United States', 'United Kingdom', ' United States', 'Australia',\n",
       "       'United  States', 'United States ', 'Germany', 'Canada', 'France'],\n",
       "      dtype=object)"
      ]
     },
     "execution_count": 23,
     "metadata": {},
     "output_type": "execute_result"
    }
   ],
   "source": [
    "df['Country'].unique()# we can see here that 'United States' is mentioned multiple times because it has additional spaces. we need to correct it or the counts of each one will be counted separately."
   ]
  },
  {
   "cell_type": "markdown",
   "metadata": {},
   "source": [
    "*** df['Country'] = df['Country'].str.replace(\" \", \"\") *** by this command, we can remove all the spaces in country names to avoid the above stated confusion."
   ]
  },
  {
   "cell_type": "code",
   "execution_count": 24,
   "metadata": {},
   "outputs": [],
   "source": [
    "df['Country'] = df['Country'].str.replace(\" \", \"\")"
   ]
  },
  {
   "cell_type": "code",
   "execution_count": 25,
   "metadata": {},
   "outputs": [
    {
     "data": {
      "text/plain": [
       "<Axes: xlabel='Country'>"
      ]
     },
     "execution_count": 25,
     "metadata": {},
     "output_type": "execute_result"
    },
    {
     "data": {
      "image/png": "[encoded data removed]",
      "text/plain": [
       "<Figure size 640x480 with 1 Axes>"
      ]
     },
     "metadata": {},
     "output_type": "display_data"
    }
   ],
   "source": [
    "df['Country'].value_counts().plot(kind='bar')"
   ]
  },
  {
   "cell_type": "code",
   "execution_count": 26,
   "metadata": {},
   "outputs": [
    {
     "data": {
      "text/plain": [
       "State\n",
       "California             20\n",
       "New South Wales        14\n",
       "England                 9\n",
       "Washington              9\n",
       "Queensland              6\n",
       "Victoria                6\n",
       "British Columbia        6\n",
       "Oregon                  4\n",
       "Seine (Paris)           4\n",
       "Nordrhein-Westfalen     3\n",
       "Hessen                  2\n",
       "Seine et Marne          1\n",
       "Hamburg                 1\n",
       "Seine Saint Denis       1\n",
       "Nord                    1\n",
       "South Australia         1\n",
       "Somme                   1\n",
       "Name: count, dtype: int64"
      ]
     },
     "execution_count": 26,
     "metadata": {},
     "output_type": "execute_result"
    }
   ],
   "source": [
    "df['State'].value_counts()"
   ]
  },
  {
   "cell_type": "code",
   "execution_count": 27,
   "metadata": {},
   "outputs": [
    {
     "name": "stdout",
     "output_type": "stream",
     "text": [
      "Empty :  1\n"
     ]
    },
    {
     "data": {
      "text/plain": [
       "Product_Description\n",
       "Mountain-200 Black, 46       15\n",
       "Mountain-200 Silver, 38      14\n",
       "Mountain-200 Black, 38       13\n",
       "Mountain-200 Silver, 42       9\n",
       "Mountain-200 Black, 42        7\n",
       "Mountain-400-W Silver, 46     6\n",
       "Mountain-400-W Silver, 42     4\n",
       "Mountain-200 Silver, 46       4\n",
       "Mountain-500 Silver, 42       3\n",
       "Mountain-400-W Silver, 38     2\n",
       "Mountain-500 Black, 42        2\n",
       "Mountain-100 Black, 38        2\n",
       "Mountain-500 Black, 40        2\n",
       "Mountain-100 Silver, 44       1\n",
       "Mountain-500 Silver, 40       1\n",
       "Mountain-500 Black, 44        1\n",
       "Mountain-100 Black, 48        1\n",
       "Mountain-500 Black, 52        1\n",
       "Name: count, dtype: int64"
      ]
     },
     "execution_count": 27,
     "metadata": {},
     "output_type": "execute_result"
    }
   ],
   "source": [
    "print('Empty : ',df['Product_Description'].isnull().sum())\n",
    "df['Product_Description'].value_counts()"
   ]
  },
  {
   "cell_type": "code",
   "execution_count": 28,
   "metadata": {},
   "outputs": [
    {
     "name": "stdout",
     "output_type": "stream",
     "text": [
      "Total Profit:  164551\n"
     ]
    }
   ],
   "source": [
    "print('Total Profit: ',df[' Profit '].sum())"
   ]
  },
  {
   "cell_type": "code",
   "execution_count": 29,
   "metadata": {},
   "outputs": [
    {
     "name": "stdout",
     "output_type": "stream",
     "text": [
      "Total Cost:  196177\n"
     ]
    }
   ],
   "source": [
    "print('Total Cost: ',df[' Cost '].sum())"
   ]
  },
  {
   "cell_type": "markdown",
   "metadata": {},
   "source": [
    "***Bivariate and Multivariate Analysis***"
   ]
  },
  {
   "cell_type": "code",
   "execution_count": 30,
   "metadata": {},
   "outputs": [
    {
     "data": {
      "text/plain": [
       "<Axes: xlabel=' Cost ', ylabel=' Profit '>"
      ]
     },
     "execution_count": 30,
     "metadata": {},
     "output_type": "execute_result"
    },
    {
     "data": {
      "image/png": "[encoded data removed]",
      "text/plain": [
       "<Figure size 640x480 with 1 Axes>"
      ]
     },
     "metadata": {},
     "output_type": "display_data"
    }
   ],
   "source": [
    "sns.scatterplot(data=df,x=' Cost ',y=' Profit ') #higher cost higher profits"
   ]
  },
  {
   "cell_type": "code",
   "execution_count": 31,
   "metadata": {},
   "outputs": [
    {
     "data": {
      "text/plain": [
       "<Axes: xlabel='Age_Group', ylabel=' Profit '>"
      ]
     },
     "execution_count": 31,
     "metadata": {},
     "output_type": "execute_result"
    },
    {
     "data": {
      "image/png": "[encoded data removed]",
      "text/plain": [
       "<Figure size 640x480 with 1 Axes>"
      ]
     },
     "metadata": {},
     "output_type": "display_data"
    }
   ],
   "source": [
    "sns.boxplot(data=df,x='Age_Group',y=' Profit ')"
   ]
  },
  {
   "cell_type": "code",
   "execution_count": 32,
   "metadata": {},
   "outputs": [
    {
     "data": {
      "text/plain": [
       "<Axes: xlabel='State'>"
      ]
     },
     "execution_count": 32,
     "metadata": {},
     "output_type": "execute_result"
    },
    {
     "data": {
      "image/png": "[encoded data removed]",
      "text/plain": [
       "<Figure size 640x480 with 1 Axes>"
      ]
     },
     "metadata": {},
     "output_type": "display_data"
    }
   ],
   "source": [
    "top_states = df.groupby(\"State\")[\" Profit \"].sum()\n",
    "top_states.plot(kind='bar')"
   ]
  },
  {
   "cell_type": "code",
   "execution_count": 33,
   "metadata": {},
   "outputs": [
    {
     "data": {
      "text/plain": [
       "<Axes: xlabel='Country', ylabel='Profit generated'>"
      ]
     },
     "execution_count": 33,
     "metadata": {},
     "output_type": "execute_result"
    },
    {
     "data": {
      "image/png": "[encoded data removed]",
      "text/plain": [
       "<Figure size 640x480 with 1 Axes>"
      ]
     },
     "metadata": {},
     "output_type": "display_data"
    }
   ],
   "source": [
    "top_coutries = df.groupby(\"Country\")[\" Profit \"].sum()\n",
    "top_coutries.plot(kind='bar',ylabel='Profit generated')"
   ]
  },
  {
   "cell_type": "code",
   "execution_count": 34,
   "metadata": {},
   "outputs": [
    {
     "data": {
      "text/plain": [
       "<Axes: ylabel='Order_Quantity'>"
      ]
     },
     "execution_count": 34,
     "metadata": {},
     "output_type": "execute_result"
    },
    {
     "data": {
      "image/png": "[encoded data removed]",
      "text/plain": [
       "<Figure size 640x480 with 1 Axes>"
      ]
     },
     "metadata": {},
     "output_type": "display_data"
    }
   ],
   "source": [
    "gender_quantity = df.groupby(\"Customer_Gender\")[\"Order_Quantity\"].sum()\n",
    "gender_quantity.plot(kind='pie',autopct='%0.1f%%')"
   ]
  },
  {
   "cell_type": "code",
   "execution_count": 35,
   "metadata": {},
   "outputs": [
    {
     "data": {
      "text/plain": [
       "Text(0.5, 1.0, 'Order_Quantity')"
      ]
     },
     "execution_count": 35,
     "metadata": {},
     "output_type": "execute_result"
    },
    {
     "data": {
      "image/png": "[encoded data removed]",
      "text/plain": [
       "<Figure size 640x480 with 2 Axes>"
      ]
     },
     "metadata": {},
     "output_type": "display_data"
    }
   ],
   "source": [
    "heatmap_data = df.groupby([\"Country\", \"Customer_Gender\"])[\"Order_Quantity\"].sum().unstack(fill_value=0)\n",
    "sns.heatmap(heatmap_data,cmap='coolwarm')\n",
    "plt.title('Order_Quantity')"
   ]
  },
  {
   "cell_type": "code",
   "execution_count": 36,
   "metadata": {},
   "outputs": [
    {
     "data": {
      "text/plain": [
       "<Axes: ylabel='Gender'>"
      ]
     },
     "execution_count": 36,
     "metadata": {},
     "output_type": "execute_result"
    },
    {
     "data": {
      "image/png": "[encoded data removed]",
      "text/plain": [
       "<Figure size 640x480 with 1 Axes>"
      ]
     },
     "metadata": {},
     "output_type": "display_data"
    }
   ],
   "source": [
    "df['Customer_Gender'].value_counts().plot(kind='pie',autopct='%0.1f%%',ylabel='Gender')"
   ]
  },
  {
   "cell_type": "code",
   "execution_count": 37,
   "metadata": {},
   "outputs": [
    {
     "data": {
      "text/plain": [
       "Text(0.5, 1.0, 'Profit distribution by Age group and Gender')"
      ]
     },
     "execution_count": 37,
     "metadata": {},
     "output_type": "execute_result"
    },
    {
     "data": {
      "image/png": "[encoded data removed]",
      "text/plain": [
       "<Figure size 640x480 with 1 Axes>"
      ]
     },
     "metadata": {},
     "output_type": "display_data"
    }
   ],
   "source": [
    "sns.boxplot(x='Age_Group',data=df,y=' Profit ',hue='Customer_Gender')\n",
    "plt.title('Profit distribution by Age group and Gender')"
   ]
  }
 ],
 "metadata": {
  "kernelspec": {
   "display_name": "ds_env",
   "language": "python",
   "name": "python3"
  },
  "language_info": {
   "codemirror_mode": {
    "name": "ipython",
    "version": 3
   },
   "file_extension": ".py",
   "mimetype": "text/x-python",
   "name": "python",
   "nbconvert_exporter": "python",
   "pygments_lexer": "ipython3",
   "version": "3.12.8"
  }
 },
 "nbformat": 4,
 "nbformat_minor": 2
}
